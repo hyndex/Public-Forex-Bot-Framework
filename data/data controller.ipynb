{
 "cells": [
  {
   "cell_type": "code",
   "execution_count": 1,
   "metadata": {},
   "outputs": [],
   "source": [
    "import pandas as pd\n",
    "import datetime as dt\n",
    "import json\n",
    "import os\n",
    "import time\n",
    "import subprocess"
   ]
  },
  {
   "cell_type": "code",
   "execution_count": 2,
   "metadata": {},
   "outputs": [],
   "source": [
    "def log(data):\n",
    "    print(data)\n",
    "    with open(\"log.txt\", \"a\") as myfile:\n",
    "        myfile.write(str(data)+'\\n')\n",
    "\n",
    "def tradeTime(offset=0):\n",
    "    if dt.date.today().weekday() in [5,6]:\n",
    "        return False\n",
    "    return True\n",
    "\n",
    "def eurusd_modification_date():\n",
    "    t = os.path.getmtime('../rtd/EURUSD.json')\n",
    "    return dt.datetime.fromtimestamp(t)+dt.timedelta(seconds=600)<dt.datetime.now()"
   ]
  },
  {
   "cell_type": "code",
   "execution_count": 4,
   "metadata": {},
   "outputs": [
    {
     "data": {
      "text/plain": [
       "False"
      ]
     },
     "execution_count": 4,
     "metadata": {},
     "output_type": "execute_result"
    }
   ],
   "source": [
    "def eurusd_modification_date():\n",
    "    t = os.path.getmtime('../rtd/EURUSD.json')\n",
    "    return dt.datetime.fromtimestamp(t)+dt.timedelta(seconds=200)<dt.datetime.now()\n",
    "\n",
    "def killterminal(test):\n",
    "    if eurusd_modification_date():\n",
    "        test.kill()\n",
    "eurusd_modification_date()"
   ]
  },
  {
   "cell_type": "code",
   "execution_count": null,
   "metadata": {
    "scrolled": true
   },
   "outputs": [
    {
     "name": "stdout",
     "output_type": "stream",
     "text": [
      "cmd started 2020-11-19 18:20:08.903204\n",
      "cmd started 2020-11-19\n"
     ]
    }
   ],
   "source": [
    "while True:\n",
    "    if tradeTime():\n",
    "        try:\n",
    "            log('cmd started '+str(dt.datetime.now()))\n",
    "            print('cmd started '+str(dt.date.today()))\n",
    "            #os.system(\"python live_backup.py\")\n",
    "            test = subprocess.Popen([\"python\",\"data_fetch.py\"], stdout=subprocess.PIPE)\n",
    "            time.sleep(100)\n",
    "            while not eurusd_modification_date():\n",
    "                time.sleep(5)\n",
    "            test.kill()\n",
    "            log(\"cmd exit \"+str(dt.datetime.now()))\n",
    "            print(\"cmd exit \"+str(dt.datetime.now()))\n",
    "            #while tradeTime():\n",
    "            #    time.sleep(2)\n",
    "        except Exception as e:\n",
    "            log(str(e))\n",
    "            test.kill()\n",
    "            log('error starting the data server')\n",
    "            pass\n",
    "    time.sleep(100)"
   ]
  }
 ],
 "metadata": {
  "kernelspec": {
   "display_name": "Python 3",
   "language": "python",
   "name": "python3"
  },
  "language_info": {
   "codemirror_mode": {
    "name": "ipython",
    "version": 3
   },
   "file_extension": ".py",
   "mimetype": "text/x-python",
   "name": "python",
   "nbconvert_exporter": "python",
   "pygments_lexer": "ipython3",
   "version": "3.8.5"
  }
 },
 "nbformat": 4,
 "nbformat_minor": 2
}
